{
  "nbformat": 4,
  "nbformat_minor": 0,
  "metadata": {
    "colab": {
      "provenance": [],
      "authorship_tag": "ABX9TyNDbdkRAH8IgN44EW7f7Cfh",
      "include_colab_link": true
    },
    "kernelspec": {
      "name": "python3",
      "display_name": "Python 3"
    },
    "language_info": {
      "name": "python"
    }
  },
  "cells": [
    {
      "cell_type": "markdown",
      "metadata": {
        "id": "view-in-github",
        "colab_type": "text"
      },
      "source": [
        "<a href=\"https://colab.research.google.com/github/rlascocz/genetic_algorithms/blob/main/tsp_genetic_algorithm.ipynb\" target=\"_parent\"><img src=\"https://colab.research.google.com/assets/colab-badge.svg\" alt=\"Open In Colab\"/></a>"
      ]
    },
    {
      "cell_type": "code",
      "execution_count": null,
      "metadata": {
        "colab": {
          "base_uri": "https://localhost:8080/"
        },
        "id": "FWKDlO6eM65t",
        "outputId": "5b577b89-4b7b-4ca7-8740-fbff31aab2ba"
      },
      "outputs": [
        {
          "output_type": "stream",
          "name": "stdout",
          "text": [
            "500000000\n",
            "500000000\n",
            "500000000\n",
            "500000000\n",
            "500000000\n",
            "500000000\n",
            "500000000\n",
            "500000000\n",
            "30 s ± 824 ms per loop (mean ± std. dev. of 7 runs, 1 loop each)\n"
          ]
        }
      ],
      "source": [
        "def capacidad_computo(t):\n",
        "    c=0\n",
        "    for i in range(100):\n",
        "        for i in range(100):\n",
        "            for i in range(100):\n",
        "                for i in range(t):\n",
        "                    c=c+1\n",
        "\n",
        "    return print(c)\n",
        "\n",
        "%timeit capacidad_computo(500)"
      ]
    }
  ]
}