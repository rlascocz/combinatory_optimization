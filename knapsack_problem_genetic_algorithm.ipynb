{
  "nbformat": 4,
  "nbformat_minor": 0,
  "metadata": {
    "colab": {
      "provenance": [],
      "authorship_tag": "ABX9TyNisJWD1mvA2VV32qp1o2DV",
      "include_colab_link": true
    },
    "kernelspec": {
      "name": "python3",
      "display_name": "Python 3"
    },
    "language_info": {
      "name": "python"
    }
  },
  "cells": [
    {
      "cell_type": "markdown",
      "metadata": {
        "id": "view-in-github",
        "colab_type": "text"
      },
      "source": [
        "<a href=\"https://colab.research.google.com/github/rlascocz/combinatory_optimization/blob/main/knapsack_problem_genetic_algorithm.ipynb\" target=\"_parent\"><img src=\"https://colab.research.google.com/assets/colab-badge.svg\" alt=\"Open In Colab\"/></a>"
      ]
    },
    {
      "cell_type": "code",
      "execution_count": null,
      "metadata": {
        "colab": {
          "base_uri": "https://localhost:8080/"
        },
        "id": "FWKDlO6eM65t",
        "outputId": "5b577b89-4b7b-4ca7-8740-fbff31aab2ba"
      },
      "outputs": [
        {
          "output_type": "stream",
          "name": "stdout",
          "text": [
            "500000000\n",
            "500000000\n",
            "500000000\n",
            "500000000\n",
            "500000000\n",
            "500000000\n",
            "500000000\n",
            "500000000\n",
            "30 s ± 824 ms per loop (mean ± std. dev. of 7 runs, 1 loop each)\n"
          ]
        }
      ],
      "source": [
        "def capacidad_computo(t):\n",
        "    c=0\n",
        "    for i in range(100):\n",
        "        for i in range(100):\n",
        "            for i in range(100):\n",
        "                for i in range(t):\n",
        "                    c=c+1\n",
        "\n",
        "    return print(c)\n",
        "\n",
        "%timeit capacidad_computo(500)"
      ]
    },
    {
      "cell_type": "markdown",
      "source": [
        "# IMPORTS"
      ],
      "metadata": {
        "id": "PjVCtjCWyE0A"
      }
    },
    {
      "cell_type": "code",
      "source": [
        "# https://www.youtube.com/watch?v=zyMCiHW520M\n",
        "import numpy as np, random, operator, pandas as pd, matplotlib.pyplot  as plt\n"
      ],
      "metadata": {
        "id": "k6IgQXMCS3sS"
      },
      "execution_count": 12,
      "outputs": []
    },
    {
      "cell_type": "markdown",
      "source": [
        "# DATA REPRESENTATION"
      ],
      "metadata": {
        "id": "9daHWq_VyNPb"
      }
    },
    {
      "cell_type": "code",
      "source": [
        "class city:\n",
        "  def __init__(self,name,x, y):\n",
        "    self.name = name\n",
        "    self.x = x\n",
        "    self.y = y\n",
        "\n",
        "  def distance (self, city):\n",
        "    xdis = abs (self.x -city.x)\n",
        "    ydis = abs (self.y -city.y)\n",
        "    distance = np.sqrt ((xdis **2 )+(ydis**2))\n",
        "    return distance\n",
        "  def __repr__(self):\n",
        "    return\"(\"+str(self.name)+\")\"\n",
        "\n"
      ],
      "metadata": {
        "id": "TndSJssmyRTd"
      },
      "execution_count": 13,
      "outputs": []
    },
    {
      "cell_type": "code",
      "source": [
        "#·fitness function\n",
        "class fitness:\n",
        "  def __init__(self, route):\n",
        "    self.route = route\n",
        "    self.distance = 0\n",
        "    self.fitness = 0.0\n",
        "  def routedistance(self):\n",
        "      if self.distance == 0:\n",
        "        pathdistance = 0\n",
        "        for i in range(len(self.route)):\n",
        "              fromcity = self.route[i]\n",
        "              if i + 1 < len(self.route):\n",
        "                  tocity = self.route[i + 1]\n",
        "              else:\n",
        "                  tocity = self.route[0]  # Wrap around to the first city\n",
        "              pathdistance += fromcity.distance(tocity)\n",
        "        self.distance = pathdistance\n",
        "      return self.distance\n",
        "\n",
        "  def routefitness(self):\n",
        "    if self.fitness == 0:\n",
        "       self.fitness = 1/ float (self.routedistance())\n",
        "       return self.fitness\n",
        "\n",
        "\n",
        "\"\"\"  def routedistance (self):\n",
        "    if self.distance == 0 :\n",
        "      pathdistance = 0\n",
        "      for i in range (0,len(self.route)):\n",
        "        fromcity = self.route[i]\n",
        "        tocity = None\n",
        "        if i + 1 < len (self.route):\n",
        "          tocity = self.route [i+1]\n",
        "        else:\n",
        "          tocity = self.route[0]\n",
        "        pathdistance +=fromcity.distance(tocity)\n",
        "      self.distanc = pathdistance\n",
        "    return self.distance\"\"\""
      ],
      "metadata": {
        "colab": {
          "base_uri": "https://localhost:8080/",
          "height": 72
        },
        "id": "EhhTtlXxZkCT",
        "outputId": "42e07502-0c46-4004-f63b-46d941e1a034"
      },
      "execution_count": 30,
      "outputs": [
        {
          "output_type": "execute_result",
          "data": {
            "text/plain": [
              "'  def routedistance (self):\\n    if self.distance == 0 :\\n      pathdistance = 0\\n      for i in range (0,len(self.route)):\\n        fromcity = self.route[i]\\n        tocity = None\\n        if i + 1 < len (self.route):\\n          tocity = self.route [i+1]\\n        else:\\n          tocity = self.route[0]\\n        pathdistance +=fromcity.distance(tocity)\\n      self.distanc = pathdistance\\n    return self.distance'"
            ],
            "application/vnd.google.colaboratory.intrinsic+json": {
              "type": "string"
            }
          },
          "metadata": {},
          "execution_count": 30
        }
      ]
    },
    {
      "cell_type": "code",
      "source": [
        "# mutation and breeding\n",
        "\n",
        "def createroute(citylist):\n",
        "  route = random.sample (citylist,len(citylist))\n",
        "\n",
        "def initialpopulation (popsize,citylist):\n",
        "  population = []\n",
        "  for i in range (0, popsize):\n",
        "    population.append(createroute(citylist))\n",
        "  return population\n",
        "\n",
        "def rankroutes (population):\n",
        "  fitnessresults = []\n",
        "  for i in range (0,len (population)):\n",
        "    fitnessresults[i]=fitness(population[i]).routefitness()\n",
        "  sortedresults =sorted(fitnessresults.items(),key =operator.itemgetter(1),reverse =True)\n",
        "  return sortedresults\n",
        "\n",
        "def selection (popranked,elitesize):\n",
        "  selectionresults=[]\n",
        "  df = pd.DataGrame(np.array(popranke),columns =[\"index\", \"fitness\"])\n",
        "  df[\"cumsum\"] = df.fitnes.cumsum()\n",
        "  df[\"cumpersc\"] = 100 *random.cumsum/df.fitness.sum()\n",
        "\n",
        "  for i in range (0,elitesize):\n",
        "    selectionresults.append(ppranked[i][0])\n",
        "  for i in range (0,len(popranked)-elitesize):\n",
        "    pick = 100* random.random()\n",
        "    for i in range (0, len(popranked)):\n",
        "      if pick <= df.iat[i,3]:\n",
        "        selectionresults.append(popranked[i][0])\n",
        "        break\n",
        "  return selectionresults\n",
        "\n",
        "\n",
        "def matinpool(population, selectionresults):\n",
        "  matingpool =[]\n",
        "  for i in range (0, len (selectionresults)):\n",
        "    index = selectionresults[i]\n",
        "    matingpool.append(poppulation[index])\n",
        "    return matingpool\n",
        "\n",
        "#create a crossover function\n",
        "\n",
        "def breed(parent1,parent2):\n",
        "  child = []\n",
        "  childp1 = []\n",
        "  childp2 = []\n",
        "\n",
        "  genea = int (random.random()* len (parent1))\n",
        "  geneb = int (random.random()* len ( parent1))\n",
        "  startgene = min ( genea,geneb)\n",
        "  endgene = max ( genea, geneb)\n",
        "  for i in range(startgene, endgene):\n",
        "    childp1.append(parent1[i])\n",
        "  childp2 = [item for  item in parent2 if item not in childp1]\n",
        "  child = childp1 +childp2\n",
        "  return child\n",
        "\n",
        "def breedpopulation (matingpool,elitesize):\n",
        "  children=[]\n",
        "  length=len(matingpool)-elitesize\n",
        "  pool=random.sample(matingpool,len(matingpool))\n",
        "  for i in range (0,elitesize):\n",
        "    children.append(matingpool[i])\n",
        "  for i in range (0,length):\n",
        "    child =breed(pool[len(matingpool)-i-1])\n",
        "    children.append(child)\n",
        "    return children\n",
        "\n",
        "def mutate (individual, mutationrate):\n",
        "  for swapped in range (len (individual)):\n",
        "    if (random.random()<mutationrate):\n",
        "      swapwith=int(random.radom()*len(individual))\n",
        "      city1=individual[sapped]\n",
        "      city2=individual[sapwith]\n",
        "      individual [swapped]=city2\n",
        "      individual[swapwith]=city1\n",
        "  return individual\n",
        "\n",
        "def mutatepopulation (population,mutationrate):\n",
        "  mutatedpop = []\n",
        "  for ind in range(0,len(population)):\n",
        "    mutatedin =mutate(population[ind],mutationrate)\n",
        "    mutatedpop.append(mutatedind)\n",
        "  return mutatedpop\n",
        "def nestgeneteration (currentgen,elitesize,mutationrate):\n",
        "  popranked = rankroutes(currentgent)\n",
        "  selectionresults=selection(popranked,elitesize)\n",
        "  matingpoo=matingpool(currentgen,selectionresults)\n",
        "  children=breedpopulation(matingpool,elitesize)\n",
        "  nextgeneration=mutatepopulation(children,mutatinrate)\n",
        "  return nextgeneration\n",
        "\n"
      ],
      "metadata": {
        "id": "9aW-B585iMst"
      },
      "execution_count": 31,
      "outputs": []
    },
    {
      "cell_type": "code",
      "source": [
        "def geneticalgorithm (population,popsize,elitesize,mutationrate,generations):\n",
        "  pop = initialpopulation(popsize,population)\n",
        "  progress=[1/rankroutes(pop)[0][1]]\n",
        "  print(\"initialdistance: \"+str(progress[0]))\n",
        "  for i in range(1,generation+1):\n",
        "    pop=nextgeneration(pop,elitesize,mutatinorate)\n",
        "    progress.append(1/RANKROUTES(POP)[0][1])\n",
        "    if i%50==0:\n",
        "      print(\"generation\"+str(i),\"distance: \",progress[i])\n",
        "\n",
        "\n",
        "  bestrouteindex=rankroutes(pop)[0][0]\n",
        "  bestroute=pop[bestrouteindex]\n",
        "  plt.plot(progress)\n",
        "  plt.ylabel(\"distance\")\n",
        "  plt.xlabel(\"best fitness vs generation\")\n",
        "  plt.tight_layout()\n",
        "  plt.show()\n",
        "\n",
        "  return bestroute"
      ],
      "metadata": {
        "id": "vNy7t2g_OP2k"
      },
      "execution_count": 32,
      "outputs": []
    },
    {
      "cell_type": "code",
      "source": [
        "citylist = []\n",
        "for i in range (0,25):\n",
        "  citylist.append(city(name=i,x=int(random.random()*200),y=int(random.random()*200)))\n",
        "\n",
        "best_route=geneticalgorithm(population=citylist,popsize=100,elitesize=20,mutationrate=0.01,generations=500)\n",
        "x=[]\n",
        "y=[]\n",
        "\n",
        "for i in best_route:\n",
        "  x.append(i.x)\n",
        "  y.append(i.y)\n",
        "x.append(best_route[0].x)\n",
        "y.append(best_route[0].y)\n",
        "plt.plot(x,y,\"--o\")\n",
        "plt.xlabel(\"x\")\n",
        "plt.ylabel(\"y\")\n",
        "ax=plt.gca()\n",
        "plt.title(\"final route layout\")\n",
        "bbox_props = dict (boxstyle=\"circle,pad=0.3\",fc=\"c0\",ec=\"black\",lw=0.5)\n",
        "for i in range (1,len(citylist)+1):\n",
        "  ax.text(citylist[i-1].x,citylist[i-1].y,str(i),ha=\"center\",va=\"center\",size=8,bbox=bbox_props)\n",
        "plt.tight_layout()\n",
        "plt.show()\n"
      ],
      "metadata": {
        "colab": {
          "base_uri": "https://localhost:8080/",
          "height": 406
        },
        "id": "DkgmeIV8QPks",
        "outputId": "b27b46e7-3f87-4047-957f-e9a364e55966"
      },
      "execution_count": 33,
      "outputs": [
        {
          "output_type": "error",
          "ename": "TypeError",
          "evalue": "ignored",
          "traceback": [
            "\u001b[0;31m---------------------------------------------------------------------------\u001b[0m",
            "\u001b[0;31mTypeError\u001b[0m                                 Traceback (most recent call last)",
            "\u001b[0;32m<ipython-input-33-5525e18acc98>\u001b[0m in \u001b[0;36m<cell line: 5>\u001b[0;34m()\u001b[0m\n\u001b[1;32m      3\u001b[0m   \u001b[0mcitylist\u001b[0m\u001b[0;34m.\u001b[0m\u001b[0mappend\u001b[0m\u001b[0;34m(\u001b[0m\u001b[0mcity\u001b[0m\u001b[0;34m(\u001b[0m\u001b[0mname\u001b[0m\u001b[0;34m=\u001b[0m\u001b[0mi\u001b[0m\u001b[0;34m,\u001b[0m\u001b[0mx\u001b[0m\u001b[0;34m=\u001b[0m\u001b[0mint\u001b[0m\u001b[0;34m(\u001b[0m\u001b[0mrandom\u001b[0m\u001b[0;34m.\u001b[0m\u001b[0mrandom\u001b[0m\u001b[0;34m(\u001b[0m\u001b[0;34m)\u001b[0m\u001b[0;34m*\u001b[0m\u001b[0;36m200\u001b[0m\u001b[0;34m)\u001b[0m\u001b[0;34m,\u001b[0m\u001b[0my\u001b[0m\u001b[0;34m=\u001b[0m\u001b[0mint\u001b[0m\u001b[0;34m(\u001b[0m\u001b[0mrandom\u001b[0m\u001b[0;34m.\u001b[0m\u001b[0mrandom\u001b[0m\u001b[0;34m(\u001b[0m\u001b[0;34m)\u001b[0m\u001b[0;34m*\u001b[0m\u001b[0;36m200\u001b[0m\u001b[0;34m)\u001b[0m\u001b[0;34m)\u001b[0m\u001b[0;34m)\u001b[0m\u001b[0;34m\u001b[0m\u001b[0;34m\u001b[0m\u001b[0m\n\u001b[1;32m      4\u001b[0m \u001b[0;34m\u001b[0m\u001b[0m\n\u001b[0;32m----> 5\u001b[0;31m \u001b[0mbest_route\u001b[0m\u001b[0;34m=\u001b[0m\u001b[0mgeneticalgorithm\u001b[0m\u001b[0;34m(\u001b[0m\u001b[0mpopulation\u001b[0m\u001b[0;34m=\u001b[0m\u001b[0mcitylist\u001b[0m\u001b[0;34m,\u001b[0m\u001b[0mpopsize\u001b[0m\u001b[0;34m=\u001b[0m\u001b[0;36m100\u001b[0m\u001b[0;34m,\u001b[0m\u001b[0melitesize\u001b[0m\u001b[0;34m=\u001b[0m\u001b[0;36m20\u001b[0m\u001b[0;34m,\u001b[0m\u001b[0mmutationrate\u001b[0m\u001b[0;34m=\u001b[0m\u001b[0;36m0.01\u001b[0m\u001b[0;34m,\u001b[0m\u001b[0mgenerations\u001b[0m\u001b[0;34m=\u001b[0m\u001b[0;36m500\u001b[0m\u001b[0;34m)\u001b[0m\u001b[0;34m\u001b[0m\u001b[0;34m\u001b[0m\u001b[0m\n\u001b[0m\u001b[1;32m      6\u001b[0m \u001b[0mx\u001b[0m\u001b[0;34m=\u001b[0m\u001b[0;34m[\u001b[0m\u001b[0;34m]\u001b[0m\u001b[0;34m\u001b[0m\u001b[0;34m\u001b[0m\u001b[0m\n\u001b[1;32m      7\u001b[0m \u001b[0my\u001b[0m\u001b[0;34m=\u001b[0m\u001b[0;34m[\u001b[0m\u001b[0;34m]\u001b[0m\u001b[0;34m\u001b[0m\u001b[0;34m\u001b[0m\u001b[0m\n",
            "\u001b[0;32m<ipython-input-32-7c3d8bb6c294>\u001b[0m in \u001b[0;36mgeneticalgorithm\u001b[0;34m(population, popsize, elitesize, mutationrate, generations)\u001b[0m\n\u001b[1;32m      1\u001b[0m \u001b[0;32mdef\u001b[0m \u001b[0mgeneticalgorithm\u001b[0m \u001b[0;34m(\u001b[0m\u001b[0mpopulation\u001b[0m\u001b[0;34m,\u001b[0m\u001b[0mpopsize\u001b[0m\u001b[0;34m,\u001b[0m\u001b[0melitesize\u001b[0m\u001b[0;34m,\u001b[0m\u001b[0mmutationrate\u001b[0m\u001b[0;34m,\u001b[0m\u001b[0mgenerations\u001b[0m\u001b[0;34m)\u001b[0m\u001b[0;34m:\u001b[0m\u001b[0;34m\u001b[0m\u001b[0;34m\u001b[0m\u001b[0m\n\u001b[1;32m      2\u001b[0m   \u001b[0mpop\u001b[0m \u001b[0;34m=\u001b[0m \u001b[0minitialpopulation\u001b[0m\u001b[0;34m(\u001b[0m\u001b[0mpopsize\u001b[0m\u001b[0;34m,\u001b[0m\u001b[0mpopulation\u001b[0m\u001b[0;34m)\u001b[0m\u001b[0;34m\u001b[0m\u001b[0;34m\u001b[0m\u001b[0m\n\u001b[0;32m----> 3\u001b[0;31m   \u001b[0mprogress\u001b[0m\u001b[0;34m=\u001b[0m\u001b[0;34m[\u001b[0m\u001b[0;36m1\u001b[0m\u001b[0;34m/\u001b[0m\u001b[0mrankroutes\u001b[0m\u001b[0;34m(\u001b[0m\u001b[0mpop\u001b[0m\u001b[0;34m)\u001b[0m\u001b[0;34m[\u001b[0m\u001b[0;36m0\u001b[0m\u001b[0;34m]\u001b[0m\u001b[0;34m[\u001b[0m\u001b[0;36m1\u001b[0m\u001b[0;34m]\u001b[0m\u001b[0;34m]\u001b[0m\u001b[0;34m\u001b[0m\u001b[0;34m\u001b[0m\u001b[0m\n\u001b[0m\u001b[1;32m      4\u001b[0m   \u001b[0mprint\u001b[0m\u001b[0;34m(\u001b[0m\u001b[0;34m\"initialdistance: \"\u001b[0m\u001b[0;34m+\u001b[0m\u001b[0mstr\u001b[0m\u001b[0;34m(\u001b[0m\u001b[0mprogress\u001b[0m\u001b[0;34m[\u001b[0m\u001b[0;36m0\u001b[0m\u001b[0;34m]\u001b[0m\u001b[0;34m)\u001b[0m\u001b[0;34m)\u001b[0m\u001b[0;34m\u001b[0m\u001b[0;34m\u001b[0m\u001b[0m\n\u001b[1;32m      5\u001b[0m   \u001b[0;32mfor\u001b[0m \u001b[0mi\u001b[0m \u001b[0;32min\u001b[0m \u001b[0mrange\u001b[0m\u001b[0;34m(\u001b[0m\u001b[0;36m1\u001b[0m\u001b[0;34m,\u001b[0m\u001b[0mgeneration\u001b[0m\u001b[0;34m+\u001b[0m\u001b[0;36m1\u001b[0m\u001b[0;34m)\u001b[0m\u001b[0;34m:\u001b[0m\u001b[0;34m\u001b[0m\u001b[0;34m\u001b[0m\u001b[0m\n",
            "\u001b[0;32m<ipython-input-31-204c69ce214e>\u001b[0m in \u001b[0;36mrankroutes\u001b[0;34m(population)\u001b[0m\n\u001b[1;32m     13\u001b[0m   \u001b[0mfitnessresults\u001b[0m \u001b[0;34m=\u001b[0m \u001b[0;34m[\u001b[0m\u001b[0;34m]\u001b[0m\u001b[0;34m\u001b[0m\u001b[0;34m\u001b[0m\u001b[0m\n\u001b[1;32m     14\u001b[0m   \u001b[0;32mfor\u001b[0m \u001b[0mi\u001b[0m \u001b[0;32min\u001b[0m \u001b[0mrange\u001b[0m \u001b[0;34m(\u001b[0m\u001b[0;36m0\u001b[0m\u001b[0;34m,\u001b[0m\u001b[0mlen\u001b[0m \u001b[0;34m(\u001b[0m\u001b[0mpopulation\u001b[0m\u001b[0;34m)\u001b[0m\u001b[0;34m)\u001b[0m\u001b[0;34m:\u001b[0m\u001b[0;34m\u001b[0m\u001b[0;34m\u001b[0m\u001b[0m\n\u001b[0;32m---> 15\u001b[0;31m     \u001b[0mfitnessresults\u001b[0m\u001b[0;34m[\u001b[0m\u001b[0mi\u001b[0m\u001b[0;34m]\u001b[0m\u001b[0;34m=\u001b[0m\u001b[0mfitness\u001b[0m\u001b[0;34m(\u001b[0m\u001b[0mpopulation\u001b[0m\u001b[0;34m[\u001b[0m\u001b[0mi\u001b[0m\u001b[0;34m]\u001b[0m\u001b[0;34m)\u001b[0m\u001b[0;34m.\u001b[0m\u001b[0mroutefitness\u001b[0m\u001b[0;34m(\u001b[0m\u001b[0;34m)\u001b[0m\u001b[0;34m\u001b[0m\u001b[0;34m\u001b[0m\u001b[0m\n\u001b[0m\u001b[1;32m     16\u001b[0m   \u001b[0msortedresults\u001b[0m \u001b[0;34m=\u001b[0m\u001b[0msorted\u001b[0m\u001b[0;34m(\u001b[0m\u001b[0mfitnessresults\u001b[0m\u001b[0;34m.\u001b[0m\u001b[0mitems\u001b[0m\u001b[0;34m(\u001b[0m\u001b[0;34m)\u001b[0m\u001b[0;34m,\u001b[0m\u001b[0mkey\u001b[0m \u001b[0;34m=\u001b[0m\u001b[0moperator\u001b[0m\u001b[0;34m.\u001b[0m\u001b[0mitemgetter\u001b[0m\u001b[0;34m(\u001b[0m\u001b[0;36m1\u001b[0m\u001b[0;34m)\u001b[0m\u001b[0;34m,\u001b[0m\u001b[0mreverse\u001b[0m \u001b[0;34m=\u001b[0m\u001b[0;32mTrue\u001b[0m\u001b[0;34m)\u001b[0m\u001b[0;34m\u001b[0m\u001b[0;34m\u001b[0m\u001b[0m\n\u001b[1;32m     17\u001b[0m   \u001b[0;32mreturn\u001b[0m \u001b[0msortedresults\u001b[0m\u001b[0;34m\u001b[0m\u001b[0;34m\u001b[0m\u001b[0m\n",
            "\u001b[0;32m<ipython-input-30-dbcc36e7c202>\u001b[0m in \u001b[0;36mroutefitness\u001b[0;34m(self)\u001b[0m\n\u001b[1;32m     20\u001b[0m   \u001b[0;32mdef\u001b[0m \u001b[0mroutefitness\u001b[0m\u001b[0;34m(\u001b[0m\u001b[0mself\u001b[0m\u001b[0;34m)\u001b[0m\u001b[0;34m:\u001b[0m\u001b[0;34m\u001b[0m\u001b[0;34m\u001b[0m\u001b[0m\n\u001b[1;32m     21\u001b[0m     \u001b[0;32mif\u001b[0m \u001b[0mself\u001b[0m\u001b[0;34m.\u001b[0m\u001b[0mfitness\u001b[0m \u001b[0;34m==\u001b[0m \u001b[0;36m0\u001b[0m\u001b[0;34m:\u001b[0m\u001b[0;34m\u001b[0m\u001b[0;34m\u001b[0m\u001b[0m\n\u001b[0;32m---> 22\u001b[0;31m        \u001b[0mself\u001b[0m\u001b[0;34m.\u001b[0m\u001b[0mfitness\u001b[0m \u001b[0;34m=\u001b[0m \u001b[0;36m1\u001b[0m\u001b[0;34m/\u001b[0m \u001b[0mfloat\u001b[0m \u001b[0;34m(\u001b[0m\u001b[0mself\u001b[0m\u001b[0;34m.\u001b[0m\u001b[0mroutedistance\u001b[0m\u001b[0;34m(\u001b[0m\u001b[0;34m)\u001b[0m\u001b[0;34m)\u001b[0m\u001b[0;34m\u001b[0m\u001b[0;34m\u001b[0m\u001b[0m\n\u001b[0m\u001b[1;32m     23\u001b[0m        \u001b[0;32mreturn\u001b[0m \u001b[0mself\u001b[0m\u001b[0;34m.\u001b[0m\u001b[0mfitness\u001b[0m\u001b[0;34m\u001b[0m\u001b[0;34m\u001b[0m\u001b[0m\n\u001b[1;32m     24\u001b[0m \u001b[0;34m\u001b[0m\u001b[0m\n",
            "\u001b[0;32m<ipython-input-30-dbcc36e7c202>\u001b[0m in \u001b[0;36mroutedistance\u001b[0;34m(self)\u001b[0m\n\u001b[1;32m      8\u001b[0m       \u001b[0;32mif\u001b[0m \u001b[0mself\u001b[0m\u001b[0;34m.\u001b[0m\u001b[0mdistance\u001b[0m \u001b[0;34m==\u001b[0m \u001b[0;36m0\u001b[0m\u001b[0;34m:\u001b[0m\u001b[0;34m\u001b[0m\u001b[0;34m\u001b[0m\u001b[0m\n\u001b[1;32m      9\u001b[0m         \u001b[0mpathdistance\u001b[0m \u001b[0;34m=\u001b[0m \u001b[0;36m0\u001b[0m\u001b[0;34m\u001b[0m\u001b[0;34m\u001b[0m\u001b[0m\n\u001b[0;32m---> 10\u001b[0;31m         \u001b[0;32mfor\u001b[0m \u001b[0mi\u001b[0m \u001b[0;32min\u001b[0m \u001b[0mrange\u001b[0m\u001b[0;34m(\u001b[0m\u001b[0mlen\u001b[0m\u001b[0;34m(\u001b[0m\u001b[0mself\u001b[0m\u001b[0;34m.\u001b[0m\u001b[0mroute\u001b[0m\u001b[0;34m)\u001b[0m\u001b[0;34m)\u001b[0m\u001b[0;34m:\u001b[0m\u001b[0;34m\u001b[0m\u001b[0;34m\u001b[0m\u001b[0m\n\u001b[0m\u001b[1;32m     11\u001b[0m               \u001b[0mfromcity\u001b[0m \u001b[0;34m=\u001b[0m \u001b[0mself\u001b[0m\u001b[0;34m.\u001b[0m\u001b[0mroute\u001b[0m\u001b[0;34m[\u001b[0m\u001b[0mi\u001b[0m\u001b[0;34m]\u001b[0m\u001b[0;34m\u001b[0m\u001b[0;34m\u001b[0m\u001b[0m\n\u001b[1;32m     12\u001b[0m               \u001b[0;32mif\u001b[0m \u001b[0mi\u001b[0m \u001b[0;34m+\u001b[0m \u001b[0;36m1\u001b[0m \u001b[0;34m<\u001b[0m \u001b[0mlen\u001b[0m\u001b[0;34m(\u001b[0m\u001b[0mself\u001b[0m\u001b[0;34m.\u001b[0m\u001b[0mroute\u001b[0m\u001b[0;34m)\u001b[0m\u001b[0;34m:\u001b[0m\u001b[0;34m\u001b[0m\u001b[0;34m\u001b[0m\u001b[0m\n",
            "\u001b[0;31mTypeError\u001b[0m: object of type 'NoneType' has no len()"
          ]
        }
      ]
    }
  ]
}