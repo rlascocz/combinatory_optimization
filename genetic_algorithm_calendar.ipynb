{
  "nbformat": 4,
  "nbformat_minor": 0,
  "metadata": {
    "colab": {
      "provenance": [],
      "authorship_tag": "ABX9TyN0kIzpo5y8Fv2foFqfLpfP",
      "include_colab_link": true
    },
    "kernelspec": {
      "name": "python3",
      "display_name": "Python 3"
    },
    "language_info": {
      "name": "python"
    }
  },
  "cells": [
    {
      "cell_type": "markdown",
      "metadata": {
        "id": "view-in-github",
        "colab_type": "text"
      },
      "source": [
        "<a href=\"https://colab.research.google.com/github/rlascocz/combinatory_optimization/blob/main/genetic_algorithm_calendar.ipynb\" target=\"_parent\"><img src=\"https://colab.research.google.com/assets/colab-badge.svg\" alt=\"Open In Colab\"/></a>"
      ]
    },
    {
      "cell_type": "code",
      "execution_count": 2,
      "metadata": {
        "id": "4pAZeMgPTI-0"
      },
      "outputs": [],
      "source": [
        "import random\n",
        "import matplotlib.pyplot as plt\n",
        "import numpy as np"
      ]
    },
    {
      "cell_type": "markdown",
      "source": [
        "# genoma\n"
      ],
      "metadata": {
        "id": "-JyAHzhPJCP2"
      }
    },
    {
      "cell_type": "code",
      "source": [
        "def rest(inicio,final,nulo=-100,rest_menor=4,rest_mayor=8):\n",
        "  verificador =False\n",
        "  verificador_lista =False\n",
        "  lista=[]\n",
        "  #valores_validos=4\n",
        "  while verificador == False and verificador_lista==False:\n",
        "\n",
        "  #funcin que se encarga de agregar descansos,  teniendo encuenta el numero de unidades requeridas entre descansos\n",
        "    lista=[nulo,nulo,nulo]\n",
        "  #primer descanso\n",
        "    lista[0]=random.randrange(inicio+rest_menor,inicio+rest_mayor)\n",
        "    #print(f'{inicio+rest_menor}-{inicio+rest_mayor}')\n",
        "  #segundo descanso\n",
        "    lista[1]=random.randrange(lista[0]+rest_menor,lista[0]+rest_mayor)\n",
        "  #tercer descanso\n",
        "    lista[2]=random.randrange(lista[1]+rest_menor,lista[1]+rest_mayor)\n",
        "\n",
        "  #validar valores de descanso no sobrepasen los limites\n",
        "    lista_analizar =[inicio]\n",
        "    lista_analizar +=[x for x in lista if x <= final-rest_menor-1]\n",
        "    lista_analizar +=[final]\n",
        "    #print(f'lista analizar ={lista_analizar}' )\n",
        "    #if lista_analizar[1]-lista_analizar[0]<= rest_menor and lista_analizar[-1]-lista_analizar[-2]<= rest_menor:\n",
        "     # verificador_lista =True\n",
        "    if final-inicio>rest_mayor and len(lista_analizar)>2:\n",
        "      verificador_lista =True\n",
        "\n",
        "    lista_verificadora=[]\n",
        "    for i in range(1,len(lista_analizar)):\n",
        "      lista_verificadora+=[lista_analizar[i]-lista_analizar[i-1]]\n",
        "    #lista_verificadora=[lista[0]-inicio,lista[1]-lista[0],lista[2]-lista[1],final-lista[2]]\n",
        "    #print(f'{inicio},{lista},{final}')\n",
        "    #print(f'lista verificadora ={lista_verificadora}')\n",
        "    contador=len(lista_verificadora)\n",
        "    #print(contador)\n",
        "    lista_verificadora2=[x for x in lista_verificadora if (x >= rest_menor and x <= rest_mayor )]\n",
        "    #print(f'lista verificadora2 ={lista_verificadora2}')\n",
        "    #for  elemento in lista_verificadora:\n",
        "    # if (elemento>=rest_menor and elemento<=rest_mayor):\n",
        "    #   contador+=1\n",
        "    #   print(contador)\n",
        "    if contador==len(lista_verificadora2):\n",
        "      verificador=True\n",
        "    lista = sorted([x if (x <= final-rest_menor or x== nulo) else nulo for x in lista])\n",
        "  return lista\n",
        "\n",
        "\n",
        "def geneardor_gen(inicio=list(range(0,9)),unidades=37,lunch =list(range(16,25)),almuerzo=True,nulo=-100):\n",
        "  #creacion del gen [inicio,tiempo_laboral,inicio_almuerzo,descanso1,descanso2,descanso3,descanso4,descanso5,descanso6]\n",
        "  long_almuerzo=6\n",
        "  lista=[]\n",
        "  lista.append(random.choice(inicio))\n",
        "  lista.append(unidades)\n",
        "  if almuerzo==True:\n",
        "    lista.append(random.choice(lunch))\n",
        "    descanso=rest(lista[0],lista[2],nulo=nulo)\n",
        "    descanso+=rest(lista[2]+long_almuerzo,lista[0]+lista[1],nulo=nulo)\n",
        "    lista+=sorted(descanso)\n",
        "  else:\n",
        "    lista.append(nulo)\n",
        "    descanso=rest(lista[0],lista[0]+lista[1],nulo=nulo)\n",
        "    descanso+=[nulo,nulo,nulo]\n",
        "    lista+=sorted(descanso)\n",
        "  return lista"
      ],
      "metadata": {
        "id": "m2Aovc3jKvZN"
      },
      "execution_count": 3,
      "outputs": []
    },
    {
      "cell_type": "markdown",
      "source": [
        "# cromosoma"
      ],
      "metadata": {
        "id": "hU9hTr0c2TJv"
      }
    },
    {
      "cell_type": "code",
      "source": [
        "normal=list(range(0,9))\n",
        "empleados=[[0],[9],normal,normal,normal,normal,normal,normal]\n",
        "horario=[]\n",
        "for i in empleados:\n",
        "  horario.append(geneardor_gen (inicio=i,unidades=37,almuerzo=True,nulo=-10))\n",
        "for i in horario:\n",
        "  print(i)\n",
        "\n",
        "plt.imshow(np.asarray(horario).T)"
      ],
      "metadata": {
        "colab": {
          "base_uri": "https://localhost:8080/",
          "height": 594
        },
        "id": "597Z7zDs2XuJ",
        "outputId": "0c14511d-8b83-4b0e-e951-7dcc6386a0da"
      },
      "execution_count": 4,
      "outputs": [
        {
          "output_type": "stream",
          "name": "stdout",
          "text": [
            "[0, 37, 19, -10, -10, -10, 7, 14, 30]\n",
            "[9, 37, 20, -10, -10, 15, 31, 36, 41]\n",
            "[7, 37, 20, -10, -10, 11, 15, 31, 38]\n",
            "[4, 37, 24, -10, -10, -10, 10, 15, 35]\n",
            "[0, 37, 18, -10, -10, -10, 5, 10, 30]\n",
            "[1, 37, 18, -10, -10, -10, 5, 11, 29]\n",
            "[4, 37, 18, -10, -10, -10, 9, 30, 37]\n",
            "[1, 37, 17, -10, -10, -10, 7, 12, 30]\n"
          ]
        },
        {
          "output_type": "execute_result",
          "data": {
            "text/plain": [
              "<matplotlib.image.AxesImage at 0x7cf23a7c3e20>"
            ]
          },
          "metadata": {},
          "execution_count": 4
        },
        {
          "output_type": "display_data",
          "data": {
            "text/plain": [
              "<Figure size 640x480 with 1 Axes>"
            ],
            "image/png": "[encoded data removed]"
          },
          "metadata": {}
        }
      ]
    },
    {
      "cell_type": "code",
      "source": [
        "dir(np.array)"
      ],
      "metadata": {
        "colab": {
          "base_uri": "https://localhost:8080/"
        },
        "id": "hjDAU2quFj0o",
        "outputId": "5754edba-7361-4d6b-90ec-f932b80dfc82"
      },
      "execution_count": 7,
      "outputs": [
        {
          "output_type": "execute_result",
          "data": {
            "text/plain": [
              "['__call__',\n",
              " '__class__',\n",
              " '__delattr__',\n",
              " '__dir__',\n",
              " '__doc__',\n",
              " '__eq__',\n",
              " '__format__',\n",
              " '__ge__',\n",
              " '__getattribute__',\n",
              " '__gt__',\n",
              " '__hash__',\n",
              " '__init__',\n",
              " '__init_subclass__',\n",
              " '__le__',\n",
              " '__lt__',\n",
              " '__module__',\n",
              " '__name__',\n",
              " '__ne__',\n",
              " '__new__',\n",
              " '__qualname__',\n",
              " '__reduce__',\n",
              " '__reduce_ex__',\n",
              " '__repr__',\n",
              " '__self__',\n",
              " '__setattr__',\n",
              " '__sizeof__',\n",
              " '__str__',\n",
              " '__subclasshook__',\n",
              " '__text_signature__']"
            ]
          },
          "metadata": {},
          "execution_count": 7
        }
      ]
    },
    {
      "cell_type": "code",
      "source": [
        "np.asarray(horario)"
      ],
      "metadata": {
        "colab": {
          "base_uri": "https://localhost:8080/"
        },
        "id": "vjM1-dCp6Dv1",
        "outputId": "991a6548-605a-436a-cac5-f3cdf26cfb3b"
      },
      "execution_count": 28,
      "outputs": [
        {
          "output_type": "execute_result",
          "data": {
            "text/plain": [
              "array([[ 0, 37, 17, -1, -1, -1,  6, 13, 30],\n",
              "       [ 9, 37, 23, -1, -1, 15, 19, 33, 37],\n",
              "       [ 7, 37, 20, -1, -1, -1, 13, 30, 37],\n",
              "       [ 8, 37, 18, -1, -1, 12, 29, 35, 40],\n",
              "       [ 3, 37, 19, -1, -1, -1,  7, 13, 32],\n",
              "       [ 5, 37, 17, -1, -1, -1, 10, 28, 34],\n",
              "       [ 8, 37, 22, -1, -1, -1, 14, 34, 40],\n",
              "       [ 2, 37, 22, -1, -1, -1,  8, 15, 32]])"
            ]
          },
          "metadata": {},
          "execution_count": 28
        }
      ]
    },
    {
      "cell_type": "code",
      "source": [
        "print(geneardor_gen (iniunidades=37,almuerzo=True,nulo=1000) )"
      ],
      "metadata": {
        "colab": {
          "base_uri": "https://localhost:8080/"
        },
        "id": "tOZmDDiwDatw",
        "outputId": "126474c7-0729-4a32-fcd9-c2a1fdf94b16"
      },
      "execution_count": 20,
      "outputs": [
        {
          "output_type": "stream",
          "name": "stdout",
          "text": [
            "[4, 37, 19, 10, 14, 30, 37, 1000, 1000]\n"
          ]
        }
      ]
    },
    {
      "cell_type": "code",
      "source": [],
      "metadata": {
        "id": "2VkrCk7g2SNk"
      },
      "execution_count": null,
      "outputs": []
    },
    {
      "cell_type": "markdown",
      "source": [
        "# population"
      ],
      "metadata": {
        "id": "l1onuaM2TbFb"
      }
    },
    {
      "cell_type": "markdown",
      "source": [
        "# fitness evaluation"
      ],
      "metadata": {
        "id": "_Sw2cZpjTd3s"
      }
    },
    {
      "cell_type": "markdown",
      "source": [
        "#selection"
      ],
      "metadata": {
        "id": "domQRbqLTk6_"
      }
    },
    {
      "cell_type": "markdown",
      "source": [
        "# crossover"
      ],
      "metadata": {
        "id": "Z3NpTdWvTspe"
      }
    },
    {
      "cell_type": "markdown",
      "source": [
        "# mutation"
      ],
      "metadata": {
        "id": "ITpP_TgJT38a"
      }
    },
    {
      "cell_type": "markdown",
      "source": [
        "#generation replacement (offspring)"
      ],
      "metadata": {
        "id": "QQNbFKkET7CT"
      }
    },
    {
      "cell_type": "markdown",
      "source": [
        "# repetition"
      ],
      "metadata": {
        "id": "AQPVd1OwT_g7"
      }
    },
    {
      "cell_type": "markdown",
      "source": [
        "# termination"
      ],
      "metadata": {
        "id": "2TzvYm1eUBaj"
      }
    },
    {
      "cell_type": "code",
      "source": [],
      "metadata": {
        "id": "dlBufkfVTvNN"
      },
      "execution_count": null,
      "outputs": []
    }
  ]
}